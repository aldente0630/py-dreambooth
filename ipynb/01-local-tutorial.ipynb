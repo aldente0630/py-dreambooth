{
 "cells": [
  {
   "cell_type": "code",
   "execution_count": null,
   "id": "021678ce-4224-4e3c-849f-14047092077e",
   "metadata": {},
   "outputs": [],
   "source": [
    "%load_ext autoreload\n",
    "%autoreload 2"
   ]
  },
  {
   "cell_type": "markdown",
   "id": "64e87323-9b72-494c-bdd5-34491a0d77ea",
   "metadata": {},
   "source": [
    "# Using *Py-Dreambooth* on a Local Jupyter Notebook 🧑‍💻\n",
    "* Use *Py-Dreambooth* to easily create AI avatar images from photos of you, your family, friends, or pets!\n",
    "* Please run on a machine with a GPU of 16GB or more.\n",
    "\n",
    "## Install the package\n",
    "* Install the *Py-Dreambooth* python package as shown below."
   ]
  },
  {
   "cell_type": "code",
   "execution_count": null,
   "id": "77d79633-5a92-4655-9622-cdd8629e1f92",
   "metadata": {},
   "outputs": [],
   "source": [
    "!pip install -q py_dreambooth"
   ]
  },
  {
   "cell_type": "markdown",
   "id": "66e7a6fd-b927-4544-9410-3b8eeeecbf5b",
   "metadata": {},
   "source": [
    "## Import modules\n",
    "* There are several types of model classes, but you'll be using the most basic model, the Stable Diffusion Dreambooth model `SDDreamboothModel`, but you don't need to worry about that right now. 🤷‍♂️"
   ]
  },
  {
   "cell_type": "code",
   "execution_count": null,
   "id": "2b514aea-f747-453c-9b30-6c33d970a6f2",
   "metadata": {
    "tags": []
   },
   "outputs": [],
   "source": [
    "from py_dreambooth.dataset import LocalDataset\n",
    "from py_dreambooth.model import SdDreamboothModel\n",
    "from py_dreambooth.predictor import LocalPredictor\n",
    "from py_dreambooth.trainer import LocalTrainer\n",
    "from py_dreambooth.utils.image_helpers import display_images\n",
    "from py_dreambooth.utils.prompt_helpers import make_prompt"
   ]
  },
  {
   "cell_type": "markdown",
   "id": "55c7890e-071f-4c54-b7f5-6be1fe34a348",
   "metadata": {},
   "source": [
    "## Prepare your data 📸"
   ]
  },
  {
   "cell_type": "code",
   "execution_count": null,
   "id": "39413c84-4909-4d7e-bc6f-e4929889790c",
   "metadata": {
    "tags": []
   },
   "outputs": [],
   "source": [
    "DATA_DIR = \"data\"  # the directory with photos for the model to train on \n",
    "OUTPUT_DIR = \"models\"  # The directory where the trained model files will be located\n",
    "\n",
    "dataset = LocalDataset(DATA_DIR)"
   ]
  },
  {
   "cell_type": "markdown",
   "id": "2373c05b-1d47-4d0c-8318-0cf6a4721030",
   "metadata": {},
   "source": [
    "* Very important! In the `DATA_DIR` defined above, put the pictures (jpg or png) of the subject you want to train.\n",
    "* For this task, you'll need about 10 to 20 solo, high-quality selfies taken with different backgrounds, lighting, and facial expressions. I think a great example can be found in [Joe Penna's GitHub repository](https://github.com/JoePenna/Dreambooth-Stable-Diffusion).\n",
    "\n",
    "![Samples](../assets/asset-001.png)\n",
    "* Use the following image processing method to crop the images into a square centered on the face. If the subject the model is trying to learn is not a person (for example, a dog), set the `detect_face` argument to `False`. "
   ]
  },
  {
   "cell_type": "code",
   "execution_count": null,
   "id": "5c5fc9e1c26241ff",
   "metadata": {
    "collapsed": false,
    "jupyter": {
     "outputs_hidden": false
    }
   },
   "outputs": [],
   "source": [
    "dataset = dataset.preprocess_images(detect_face=True)"
   ]
  },
  {
   "cell_type": "markdown",
   "id": "9240698c-426f-44f4-89a4-c4e9cc8f6c22",
   "metadata": {},
   "source": [
    "## Train the model 🤖\n",
    "* Now it's time to train the model! Tell the model the name of the subject you want to train (e.g., Joe) and the class it belongs to. \n",
    "* When defining a model, one of the important arguments is how many iterations to train, or `max_train_steps`. It is generally accepted that 800 to 1200 steps are appropriate for a person, and 200 to 400 steps are appropriate for a non-human animal. The default value is 75 times the number of photos you have. You don't need to worry about that right now 🤷‍♂️, but if you don't like the results of the generated image below, this is the first parameter to adjust."
   ]
  },
  {
   "cell_type": "code",
   "execution_count": null,
   "id": "151d05e7-5acb-4a53-9dff-b21e6f244b69",
   "metadata": {
    "tags": []
   },
   "outputs": [],
   "source": [
    "SUBJECT_NAME = \"sks\"  # The name of the subject you want to learn\n",
    "CLASS_NAME = \"person\"  # The class to which the subject you want to learn belongs\n",
    "\n",
    "model = SdDreamboothModel(\n",
    "    subject_name=SUBJECT_NAME, \n",
    "    class_name=CLASS_NAME,\n",
    "    # max_train_steps=1000,\n",
    ")\n",
    "\n",
    "trainer = LocalTrainer(output_dir=OUTPUT_DIR)"
   ]
  },
  {
   "cell_type": "markdown",
   "id": "a44f878e-762e-4eef-8f02-3a9708715245",
   "metadata": {},
   "source": [
    "* Model training time can be as short as a few tens of minutes or as long as several hours."
   ]
  },
  {
   "cell_type": "code",
   "execution_count": null,
   "id": "85bacd28-e07e-4a05-bf5f-b60796568636",
   "metadata": {},
   "outputs": [],
   "source": [
    "%%time\n",
    "predictor = trainer.fit(model, dataset)"
   ]
  },
  {
   "cell_type": "markdown",
   "id": "d4113be1-b8ea-4319-b269-e180837e12fe",
   "metadata": {},
   "source": [
    "* If you restart the notebook kernel and then want to reload the models you've already trained, you can do so as follows."
   ]
  },
  {
   "cell_type": "code",
   "execution_count": null,
   "id": "4b013e17-d669-46dd-abc2-043a22e9a5b9",
   "metadata": {},
   "outputs": [],
   "source": [
    "# predictor = LocalPredictor(model, OUTPUT_DIR)"
   ]
  },
  {
   "cell_type": "markdown",
   "id": "7a508d27-a04b-4c38-8012-e41c68faac41",
   "metadata": {},
   "source": [
    "## Create images as you wish! 💃\n",
    "* Use the prompts to create any image you like. The prompt text should contain the subject name and class name defined above.\n",
    "* Having trouble coming up with a good prompt? Don't worry. You can use the `make_prompt` function to generate a curated prompt at random. Check this out. 🙆‍♀️\n",
    "* Creating great images takes patience. Play around with the prompts, but if the quality of the generation itself is problematic, you may need to retrain with better data and more appropriate training parameters."
   ]
  },
  {
   "cell_type": "code",
   "execution_count": null,
   "id": "3b27d3a4-d608-4c64-8d9c-28dd4e5326d1",
   "metadata": {},
   "outputs": [],
   "source": [
    "%%time\n",
    "prompt = f\"A photo of {SUBJECT_NAME} {CLASS_NAME} with Eiffel Tower in the background\"\n",
    "# prompt = next(make_prompt(SUBJECT_NAME, CLASS_NAME))\n",
    "\n",
    "print(f\"The prompt is as follows:\\n{prompt}\")\n",
    "\n",
    "images = predictor.predict(\n",
    "    prompt, height=768, width=512, num_images_per_prompt=2,\n",
    ")\n",
    "\n",
    "display_images(images, fig_size=10)"
   ]
  }
 ],
 "metadata": {
  "kernelspec": {
   "display_name": "Python 3 (ipykernel)",
   "language": "python",
   "name": "python3"
  },
  "language_info": {
   "codemirror_mode": {
    "name": "ipython",
    "version": 3
   },
   "file_extension": ".py",
   "mimetype": "text/x-python",
   "name": "python",
   "nbconvert_exporter": "python",
   "pygments_lexer": "ipython3",
   "version": "3.10.12"
  }
 },
 "nbformat": 4,
 "nbformat_minor": 5
}
